{
 "cells": [
  {
   "cell_type": "code",
   "execution_count": 3,
   "metadata": {},
   "outputs": [],
   "source": [
    "import matplotlib as mpl\n",
    "import matplotlib.pyplot as plt\n",
    "import numpy as np\n",
    "import matplotlib.ticker as ticker\n",
    "from seaborn import regplot\n",
    "from math import sqrt, pi"
   ]
  },
  {
   "cell_type": "code",
   "execution_count": 7,
   "metadata": {},
   "outputs": [
    {
     "name": "stdout",
     "output_type": "stream",
     "text": [
      "0.17453292519943295\n"
     ]
    }
   ],
   "source": [
    "x = "
   ]
  },
  {
   "cell_type": "code",
   "execution_count": 8,
   "metadata": {},
   "outputs": [
    {
     "ename": "SyntaxError",
     "evalue": "invalid syntax (<ipython-input-8-bf0f7b0716be>, line 23)",
     "output_type": "error",
     "traceback": [
      "\u001b[0;36m  File \u001b[0;32m\"<ipython-input-8-bf0f7b0716be>\"\u001b[0;36m, line \u001b[0;32m23\u001b[0m\n\u001b[0;31m    dn =\u001b[0m\n\u001b[0m         ^\u001b[0m\n\u001b[0;31mSyntaxError\u001b[0m\u001b[0;31m:\u001b[0m invalid syntax\n"
     ]
    }
   ],
   "source": [
    "fig, ax = plt.subplots()\n",
    "\n",
    "\n",
    "plt.title(\"График зависимости U(I)\") # заголовок\n",
    "plt.xlabel(\"I, А\") # ось абсцисс\n",
    "plt.ylabel(\"U, В\") # ось ординат\n",
    "ax.grid()      # включение отображение сетки\n",
    "\n",
    "\n",
    "#  Устанавливаем интервал основных делений:\n",
    "ax.xaxis.set_major_locator(ticker.MultipleLocator(0.05))\n",
    "#  Устанавливаем интервал вспомогательных делений:\n",
    "ax.xaxis.set_minor_locator(ticker.MultipleLocator(0.05))\n",
    "\n",
    "#  Тоже самое проделываем с делениями на оси \"y\":\n",
    "ax.yaxis.set_major_locator(ticker.MultipleLocator(0.1))\n",
    "ax.yaxis.set_minor_locator(ticker.MultipleLocator(0.1))\n",
    "\n",
    "\n",
    "r = 0.013\n",
    "h = 1.395\n",
    "\n",
    "dn = \n",
    "\n",
    "dl = (r * dn) / (2 * h)\n",
    "U_up_20 = [0.4395, 0.4991, 0.5556, 0.6955, 0.8105, 1.1800]\n",
    "I_up_20 = [0.225, 0.255, 0.280, 0.350, 0.405, 0.580]\n",
    "\n",
    "U_down_20 = [1.1801, 0.8260, 0.7421, 0.5681, 0.5164, 0.4186]\n",
    "I_down_20 = [0.580, 0.415, 0.365, 0.290, 0.265, 0.215]\n",
    "\n",
    "U_zero_20 = [0, 0]\n",
    "I_zero_20 = [0, 0]\n",
    "\n",
    "ax.scatter(I_up_20, U_up_20, color = \"red\", label = \"Точки измерения ВВЕРХ при L = 20 см\")\n",
    "ax.scatter(I_down_20, U_down_20, color = \"yellow\", label = \"Точки измерения ВНИЗ при L = 20 см\")\n",
    "\n",
    "\n",
    "U_20 = U_up_20 + U_down_20\n",
    "I_20 = I_up_20 + I_down_20\n",
    "\n",
    "#zero adding\n",
    "U_20 = U_zero_20 + U_20\n",
    "I_20 = I_zero_20 + I_20\n",
    "\n",
    "U_20 = sorted(U_20)\n",
    "I_20 = sorted(I_20)\n",
    "\n",
    "U_np_20 = np.array(U_20)\n",
    "I_np_20 = np.array(I_20)\n",
    "\n",
    "m_20, b_20 = np.polyfit(I_np_20, U_np_20, 1)\n",
    "U_np_right_20 = m_20 * I_np_20 + b_20\n",
    "\n",
    "ax.plot(I_np_20 , U_np_right_20 , color = \"blue\", linewidth = 2, label = \"График L = 20 см\")\n",
    "\n",
    "#------------------------------------------------------------------------\n",
    "\n",
    "fig.set_figwidth(12)\n",
    "fig.set_figheight(8)\n",
    "plt.legend(loc='best')\n",
    "\n",
    "\n",
    "\n",
    "fname = \"dlp.jpg\"\n",
    "plt.savefig(fname, dpi=None, facecolor='w', edgecolor='w',\n",
    "        orientation='portrait', papertype=None, format=None,\n",
    "        transparent=False, bbox_inches=None, pad_inches=0.1,\n",
    "        frameon=None, metadata=None)\n",
    "\n",
    "\n",
    "plt.show()\n",
    "\n",
    "\n",
    "\n"
   ]
  },
  {
   "cell_type": "code",
   "execution_count": null,
   "metadata": {},
   "outputs": [],
   "source": []
  }
 ],
 "metadata": {
  "kernelspec": {
   "display_name": "Python 3",
   "language": "python",
   "name": "python3"
  },
  "language_info": {
   "codemirror_mode": {
    "name": "ipython",
    "version": 3
   },
   "file_extension": ".py",
   "mimetype": "text/x-python",
   "name": "python",
   "nbconvert_exporter": "python",
   "pygments_lexer": "ipython3",
   "version": "3.7.3"
  }
 },
 "nbformat": 4,
 "nbformat_minor": 2
}
